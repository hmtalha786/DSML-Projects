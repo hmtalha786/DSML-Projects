{
 "cells": [
  {
   "cell_type": "markdown",
   "id": "54716807",
   "metadata": {},
   "source": [
    "### IMPORT LIBRARIES"
   ]
  },
  {
   "cell_type": "code",
   "execution_count": 1,
   "id": "f5343901",
   "metadata": {},
   "outputs": [],
   "source": [
    "import os"
   ]
  },
  {
   "cell_type": "code",
   "execution_count": 2,
   "id": "5732b63c",
   "metadata": {},
   "outputs": [],
   "source": [
    "import numpy as np\n",
    "import pandas as pd"
   ]
  },
  {
   "cell_type": "code",
   "execution_count": 3,
   "id": "19cebf45",
   "metadata": {},
   "outputs": [],
   "source": [
    "import seaborn as sns\n",
    "from matplotlib import pylab as plt"
   ]
  },
  {
   "cell_type": "code",
   "execution_count": 4,
   "id": "768925a0",
   "metadata": {},
   "outputs": [],
   "source": [
    "import warnings\n",
    "warnings.filterwarnings('ignore')\n",
    "sns.set_palette(['#0892a5','#2e9b9b','#50a290','#6fa985','#8dad7f','#a9b17e','#c4b383','#dbb68f'])"
   ]
  },
  {
   "cell_type": "markdown",
   "id": "8e45568e",
   "metadata": {},
   "source": [
    "### GETTING DATA"
   ]
  },
  {
   "cell_type": "code",
   "execution_count": 5,
   "id": "02fd88b1",
   "metadata": {},
   "outputs": [],
   "source": [
    "files = [file for file in os.listdir('C:/Users/DMS/Downloads/ecommerce_sales_analysis/dataset')] "
   ]
  },
  {
   "cell_type": "code",
   "execution_count": 6,
   "id": "6391c23e",
   "metadata": {},
   "outputs": [],
   "source": [
    "df = pd.DataFrame()"
   ]
  },
  {
   "cell_type": "code",
   "execution_count": 7,
   "id": "e3093311",
   "metadata": {},
   "outputs": [],
   "source": [
    "for i in files:\n",
    "    data = pd.read_csv('dataset/'+i)\n",
    "    df = pd.concat([df,data],axis=0)"
   ]
  },
  {
   "cell_type": "code",
   "execution_count": 8,
   "id": "90ee371a",
   "metadata": {},
   "outputs": [
    {
     "data": {
      "text/plain": [
       "(186850, 6)"
      ]
     },
     "execution_count": 8,
     "metadata": {},
     "output_type": "execute_result"
    }
   ],
   "source": [
    "df.shape"
   ]
  },
  {
   "cell_type": "markdown",
   "id": "a96ae36d",
   "metadata": {},
   "source": [
    "### DATA CLEANING"
   ]
  },
  {
   "cell_type": "code",
   "execution_count": 9,
   "id": "53876356",
   "metadata": {},
   "outputs": [],
   "source": [
    "# Exclude header for each dataset inside dataframe\n",
    "df = df[df['Order ID'] != 'Order ID']"
   ]
  },
  {
   "cell_type": "code",
   "execution_count": 10,
   "id": "9bf62997",
   "metadata": {},
   "outputs": [],
   "source": [
    "df = df.reset_index()"
   ]
  },
  {
   "cell_type": "code",
   "execution_count": 11,
   "id": "3b6b39bc",
   "metadata": {},
   "outputs": [],
   "source": [
    "df = df.drop(columns='index')"
   ]
  },
  {
   "cell_type": "code",
   "execution_count": 12,
   "id": "ed110785",
   "metadata": {},
   "outputs": [
    {
     "data": {
      "text/html": [
       "<div>\n",
       "<style scoped>\n",
       "    .dataframe tbody tr th:only-of-type {\n",
       "        vertical-align: middle;\n",
       "    }\n",
       "\n",
       "    .dataframe tbody tr th {\n",
       "        vertical-align: top;\n",
       "    }\n",
       "\n",
       "    .dataframe thead th {\n",
       "        text-align: right;\n",
       "    }\n",
       "</style>\n",
       "<table border=\"1\" class=\"dataframe\">\n",
       "  <thead>\n",
       "    <tr style=\"text-align: right;\">\n",
       "      <th></th>\n",
       "      <th>Order ID</th>\n",
       "      <th>Product</th>\n",
       "      <th>Quantity Ordered</th>\n",
       "      <th>Price Each</th>\n",
       "      <th>Order Date</th>\n",
       "      <th>Purchase Address</th>\n",
       "    </tr>\n",
       "  </thead>\n",
       "  <tbody>\n",
       "    <tr>\n",
       "      <th>181081</th>\n",
       "      <td>254151</td>\n",
       "      <td>27in FHD Monitor</td>\n",
       "      <td>1</td>\n",
       "      <td>149.99</td>\n",
       "      <td>09/26/19 17:59</td>\n",
       "      <td>135 Walnut St, Dallas, TX 75001</td>\n",
       "    </tr>\n",
       "    <tr>\n",
       "      <th>123187</th>\n",
       "      <td>196881</td>\n",
       "      <td>AA Batteries (4-pack)</td>\n",
       "      <td>1</td>\n",
       "      <td>3.84</td>\n",
       "      <td>05/20/19 21:16</td>\n",
       "      <td>358 Willow St, San Francisco, CA 94016</td>\n",
       "    </tr>\n",
       "    <tr>\n",
       "      <th>12365</th>\n",
       "      <td>188374</td>\n",
       "      <td>Google Phone</td>\n",
       "      <td>1</td>\n",
       "      <td>600</td>\n",
       "      <td>04/25/19 23:53</td>\n",
       "      <td>787 Jackson St, Seattle, WA 98101</td>\n",
       "    </tr>\n",
       "    <tr>\n",
       "      <th>104239</th>\n",
       "      <td>222129</td>\n",
       "      <td>27in FHD Monitor</td>\n",
       "      <td>1</td>\n",
       "      <td>149.99</td>\n",
       "      <td>06/12/19 10:16</td>\n",
       "      <td>311 Lincoln St, Los Angeles, CA 90001</td>\n",
       "    </tr>\n",
       "    <tr>\n",
       "      <th>54102</th>\n",
       "      <td>318420</td>\n",
       "      <td>AA Batteries (4-pack)</td>\n",
       "      <td>1</td>\n",
       "      <td>3.84</td>\n",
       "      <td>12/19/19 11:21</td>\n",
       "      <td>463 River St, Dallas, TX 75001</td>\n",
       "    </tr>\n",
       "    <tr>\n",
       "      <th>62144</th>\n",
       "      <td>156948</td>\n",
       "      <td>Apple Airpods Headphones</td>\n",
       "      <td>1</td>\n",
       "      <td>150</td>\n",
       "      <td>02/03/19 15:45</td>\n",
       "      <td>217 South St, Los Angeles, CA 90001</td>\n",
       "    </tr>\n",
       "    <tr>\n",
       "      <th>16621</th>\n",
       "      <td>192450</td>\n",
       "      <td>AAA Batteries (4-pack)</td>\n",
       "      <td>1</td>\n",
       "      <td>2.99</td>\n",
       "      <td>04/16/19 07:11</td>\n",
       "      <td>372 Wilson St, San Francisco, CA 94016</td>\n",
       "    </tr>\n",
       "    <tr>\n",
       "      <th>68994</th>\n",
       "      <td>142733</td>\n",
       "      <td>AAA Batteries (4-pack)</td>\n",
       "      <td>3</td>\n",
       "      <td>2.99</td>\n",
       "      <td>01/24/19 00:44</td>\n",
       "      <td>766 Pine St, New York City, NY 10001</td>\n",
       "    </tr>\n",
       "    <tr>\n",
       "      <th>54023</th>\n",
       "      <td>318342</td>\n",
       "      <td>Lightning Charging Cable</td>\n",
       "      <td>1</td>\n",
       "      <td>14.95</td>\n",
       "      <td>12/23/19 23:47</td>\n",
       "      <td>73 Pine St, Seattle, WA 98101</td>\n",
       "    </tr>\n",
       "    <tr>\n",
       "      <th>130240</th>\n",
       "      <td>203592</td>\n",
       "      <td>Wired Headphones</td>\n",
       "      <td>1</td>\n",
       "      <td>11.99</td>\n",
       "      <td>05/13/19 15:28</td>\n",
       "      <td>417 12th St, Seattle, WA 98101</td>\n",
       "    </tr>\n",
       "  </tbody>\n",
       "</table>\n",
       "</div>"
      ],
      "text/plain": [
       "       Order ID                   Product Quantity Ordered Price Each  \\\n",
       "181081   254151          27in FHD Monitor                1     149.99   \n",
       "123187   196881     AA Batteries (4-pack)                1       3.84   \n",
       "12365    188374              Google Phone                1        600   \n",
       "104239   222129          27in FHD Monitor                1     149.99   \n",
       "54102    318420     AA Batteries (4-pack)                1       3.84   \n",
       "62144    156948  Apple Airpods Headphones                1        150   \n",
       "16621    192450    AAA Batteries (4-pack)                1       2.99   \n",
       "68994    142733    AAA Batteries (4-pack)                3       2.99   \n",
       "54023    318342  Lightning Charging Cable                1      14.95   \n",
       "130240   203592          Wired Headphones                1      11.99   \n",
       "\n",
       "            Order Date                        Purchase Address  \n",
       "181081  09/26/19 17:59         135 Walnut St, Dallas, TX 75001  \n",
       "123187  05/20/19 21:16  358 Willow St, San Francisco, CA 94016  \n",
       "12365   04/25/19 23:53       787 Jackson St, Seattle, WA 98101  \n",
       "104239  06/12/19 10:16   311 Lincoln St, Los Angeles, CA 90001  \n",
       "54102   12/19/19 11:21          463 River St, Dallas, TX 75001  \n",
       "62144   02/03/19 15:45     217 South St, Los Angeles, CA 90001  \n",
       "16621   04/16/19 07:11  372 Wilson St, San Francisco, CA 94016  \n",
       "68994   01/24/19 00:44    766 Pine St, New York City, NY 10001  \n",
       "54023   12/23/19 23:47           73 Pine St, Seattle, WA 98101  \n",
       "130240  05/13/19 15:28          417 12th St, Seattle, WA 98101  "
      ]
     },
     "execution_count": 12,
     "metadata": {},
     "output_type": "execute_result"
    }
   ],
   "source": [
    "df.sample(10)"
   ]
  },
  {
   "cell_type": "code",
   "execution_count": 13,
   "id": "f61566b5",
   "metadata": {},
   "outputs": [
    {
     "name": "stdout",
     "output_type": "stream",
     "text": [
      "<class 'pandas.core.frame.DataFrame'>\n",
      "RangeIndex: 186495 entries, 0 to 186494\n",
      "Data columns (total 6 columns):\n",
      " #   Column            Non-Null Count   Dtype \n",
      "---  ------            --------------   ----- \n",
      " 0   Order ID          185950 non-null  object\n",
      " 1   Product           185950 non-null  object\n",
      " 2   Quantity Ordered  185950 non-null  object\n",
      " 3   Price Each        185950 non-null  object\n",
      " 4   Order Date        185950 non-null  object\n",
      " 5   Purchase Address  185950 non-null  object\n",
      "dtypes: object(6)\n",
      "memory usage: 8.5+ MB\n"
     ]
    }
   ],
   "source": [
    "# Check for data types\n",
    "df.info()"
   ]
  },
  {
   "cell_type": "code",
   "execution_count": 14,
   "id": "414f884d",
   "metadata": {},
   "outputs": [
    {
     "data": {
      "text/plain": [
       "Order ID            545\n",
       "Product             545\n",
       "Quantity Ordered    545\n",
       "Price Each          545\n",
       "Order Date          545\n",
       "Purchase Address    545\n",
       "dtype: int64"
      ]
     },
     "execution_count": 14,
     "metadata": {},
     "output_type": "execute_result"
    }
   ],
   "source": [
    "# Check null values\n",
    "df.isna().sum()"
   ]
  },
  {
   "cell_type": "code",
   "execution_count": 15,
   "id": "2c90e649",
   "metadata": {},
   "outputs": [
    {
     "data": {
      "text/html": [
       "<div>\n",
       "<style scoped>\n",
       "    .dataframe tbody tr th:only-of-type {\n",
       "        vertical-align: middle;\n",
       "    }\n",
       "\n",
       "    .dataframe tbody tr th {\n",
       "        vertical-align: top;\n",
       "    }\n",
       "\n",
       "    .dataframe thead th {\n",
       "        text-align: right;\n",
       "    }\n",
       "</style>\n",
       "<table border=\"1\" class=\"dataframe\">\n",
       "  <thead>\n",
       "    <tr style=\"text-align: right;\">\n",
       "      <th></th>\n",
       "      <th>Order ID</th>\n",
       "      <th>Product</th>\n",
       "      <th>Quantity Ordered</th>\n",
       "      <th>Price Each</th>\n",
       "      <th>Order Date</th>\n",
       "      <th>Purchase Address</th>\n",
       "    </tr>\n",
       "  </thead>\n",
       "  <tbody>\n",
       "    <tr>\n",
       "      <th>1</th>\n",
       "      <td>NaN</td>\n",
       "      <td>NaN</td>\n",
       "      <td>NaN</td>\n",
       "      <td>NaN</td>\n",
       "      <td>NaN</td>\n",
       "      <td>NaN</td>\n",
       "    </tr>\n",
       "    <tr>\n",
       "      <th>356</th>\n",
       "      <td>NaN</td>\n",
       "      <td>NaN</td>\n",
       "      <td>NaN</td>\n",
       "      <td>NaN</td>\n",
       "      <td>NaN</td>\n",
       "      <td>NaN</td>\n",
       "    </tr>\n",
       "    <tr>\n",
       "      <th>734</th>\n",
       "      <td>NaN</td>\n",
       "      <td>NaN</td>\n",
       "      <td>NaN</td>\n",
       "      <td>NaN</td>\n",
       "      <td>NaN</td>\n",
       "      <td>NaN</td>\n",
       "    </tr>\n",
       "    <tr>\n",
       "      <th>1430</th>\n",
       "      <td>NaN</td>\n",
       "      <td>NaN</td>\n",
       "      <td>NaN</td>\n",
       "      <td>NaN</td>\n",
       "      <td>NaN</td>\n",
       "      <td>NaN</td>\n",
       "    </tr>\n",
       "    <tr>\n",
       "      <th>1550</th>\n",
       "      <td>NaN</td>\n",
       "      <td>NaN</td>\n",
       "      <td>NaN</td>\n",
       "      <td>NaN</td>\n",
       "      <td>NaN</td>\n",
       "      <td>NaN</td>\n",
       "    </tr>\n",
       "    <tr>\n",
       "      <th>...</th>\n",
       "      <td>...</td>\n",
       "      <td>...</td>\n",
       "      <td>...</td>\n",
       "      <td>...</td>\n",
       "      <td>...</td>\n",
       "      <td>...</td>\n",
       "    </tr>\n",
       "    <tr>\n",
       "      <th>184825</th>\n",
       "      <td>NaN</td>\n",
       "      <td>NaN</td>\n",
       "      <td>NaN</td>\n",
       "      <td>NaN</td>\n",
       "      <td>NaN</td>\n",
       "      <td>NaN</td>\n",
       "    </tr>\n",
       "    <tr>\n",
       "      <th>185087</th>\n",
       "      <td>NaN</td>\n",
       "      <td>NaN</td>\n",
       "      <td>NaN</td>\n",
       "      <td>NaN</td>\n",
       "      <td>NaN</td>\n",
       "      <td>NaN</td>\n",
       "    </tr>\n",
       "    <tr>\n",
       "      <th>185690</th>\n",
       "      <td>NaN</td>\n",
       "      <td>NaN</td>\n",
       "      <td>NaN</td>\n",
       "      <td>NaN</td>\n",
       "      <td>NaN</td>\n",
       "      <td>NaN</td>\n",
       "    </tr>\n",
       "    <tr>\n",
       "      <th>186196</th>\n",
       "      <td>NaN</td>\n",
       "      <td>NaN</td>\n",
       "      <td>NaN</td>\n",
       "      <td>NaN</td>\n",
       "      <td>NaN</td>\n",
       "      <td>NaN</td>\n",
       "    </tr>\n",
       "    <tr>\n",
       "      <th>186471</th>\n",
       "      <td>NaN</td>\n",
       "      <td>NaN</td>\n",
       "      <td>NaN</td>\n",
       "      <td>NaN</td>\n",
       "      <td>NaN</td>\n",
       "      <td>NaN</td>\n",
       "    </tr>\n",
       "  </tbody>\n",
       "</table>\n",
       "<p>545 rows × 6 columns</p>\n",
       "</div>"
      ],
      "text/plain": [
       "       Order ID Product Quantity Ordered Price Each Order Date  \\\n",
       "1           NaN     NaN              NaN        NaN        NaN   \n",
       "356         NaN     NaN              NaN        NaN        NaN   \n",
       "734         NaN     NaN              NaN        NaN        NaN   \n",
       "1430        NaN     NaN              NaN        NaN        NaN   \n",
       "1550        NaN     NaN              NaN        NaN        NaN   \n",
       "...         ...     ...              ...        ...        ...   \n",
       "184825      NaN     NaN              NaN        NaN        NaN   \n",
       "185087      NaN     NaN              NaN        NaN        NaN   \n",
       "185690      NaN     NaN              NaN        NaN        NaN   \n",
       "186196      NaN     NaN              NaN        NaN        NaN   \n",
       "186471      NaN     NaN              NaN        NaN        NaN   \n",
       "\n",
       "       Purchase Address  \n",
       "1                   NaN  \n",
       "356                 NaN  \n",
       "734                 NaN  \n",
       "1430                NaN  \n",
       "1550                NaN  \n",
       "...                 ...  \n",
       "184825              NaN  \n",
       "185087              NaN  \n",
       "185690              NaN  \n",
       "186196              NaN  \n",
       "186471              NaN  \n",
       "\n",
       "[545 rows x 6 columns]"
      ]
     },
     "execution_count": 15,
     "metadata": {},
     "output_type": "execute_result"
    }
   ],
   "source": [
    "# Check null values\n",
    "df[df.isna().any(axis=1)]"
   ]
  },
  {
   "cell_type": "code",
   "execution_count": 16,
   "id": "6ef83115",
   "metadata": {},
   "outputs": [],
   "source": [
    "# Drop null vales\n",
    "df = df.dropna()"
   ]
  },
  {
   "cell_type": "code",
   "execution_count": 17,
   "id": "e0a14262",
   "metadata": {},
   "outputs": [
    {
     "data": {
      "text/plain": [
       "Order ID            0\n",
       "Product             0\n",
       "Quantity Ordered    0\n",
       "Price Each          0\n",
       "Order Date          0\n",
       "Purchase Address    0\n",
       "dtype: int64"
      ]
     },
     "execution_count": 17,
     "metadata": {},
     "output_type": "execute_result"
    }
   ],
   "source": [
    "# Check null values\n",
    "df.isna().sum()"
   ]
  },
  {
   "cell_type": "markdown",
   "id": "23d67343",
   "metadata": {},
   "source": [
    "### DATA PREPARATION"
   ]
  },
  {
   "cell_type": "code",
   "execution_count": 18,
   "id": "860d704e",
   "metadata": {},
   "outputs": [],
   "source": [
    "# Correcting data types\n",
    "\n",
    "df['Quantity Ordered'] = df['Quantity Ordered'].astype('int64')\n",
    "\n",
    "df['Price Each'] = df['Price Each'].astype('float')\n",
    "\n",
    "df['Order Date'] = pd.to_datetime(df['Order Date'])"
   ]
  },
  {
   "cell_type": "code",
   "execution_count": 19,
   "id": "59cc9b40",
   "metadata": {},
   "outputs": [],
   "source": [
    "# Adding new feature\n",
    "\n",
    "def feature_extraction(data):\n",
    "    \n",
    "    # funtction to get the city in the data\n",
    "    def get_city(address):\n",
    "        return address.split(',')[1]\n",
    "    \n",
    "    # funtction to get the state in the data\n",
    "    def get_state(address):\n",
    "        return address.split(',')[2].split(' ')[1]\n",
    "\n",
    "    # let's get the year data in order date column\n",
    "    data['Year'] = data['Order Date'].dt.year\n",
    "    \n",
    "    # let's get the month data in order date column\n",
    "    data['Month'] = data['Order Date'].dt.month\n",
    "    \n",
    "    # let's get the houe data in order date column\n",
    "    data['Hour'] = data['Order Date'].dt.hour \n",
    "    \n",
    "    # let's get the minute data in order date column\n",
    "    data['Minute'] = data['Order Date'].dt.minute \n",
    "    \n",
    "    # let's make the sales column by multiplying the quantity ordered colum with price each column\n",
    "    data['Sales'] = data['Quantity Ordered'] * data['Price Each'] \n",
    "    \n",
    "    # let's get the cities data in order date column\n",
    "    data['Cities'] = data['Purchase Address'].apply(lambda x: f\"{get_city(x)} ({get_state(x)})\") \n",
    "    \n",
    "    return data "
   ]
  },
  {
   "cell_type": "code",
   "execution_count": 20,
   "id": "6173b887",
   "metadata": {},
   "outputs": [],
   "source": [
    "df = feature_extraction(df)"
   ]
  },
  {
   "cell_type": "code",
   "execution_count": 21,
   "id": "707a6b66",
   "metadata": {},
   "outputs": [
    {
     "data": {
      "text/html": [
       "<div>\n",
       "<style scoped>\n",
       "    .dataframe tbody tr th:only-of-type {\n",
       "        vertical-align: middle;\n",
       "    }\n",
       "\n",
       "    .dataframe tbody tr th {\n",
       "        vertical-align: top;\n",
       "    }\n",
       "\n",
       "    .dataframe thead th {\n",
       "        text-align: right;\n",
       "    }\n",
       "</style>\n",
       "<table border=\"1\" class=\"dataframe\">\n",
       "  <thead>\n",
       "    <tr style=\"text-align: right;\">\n",
       "      <th></th>\n",
       "      <th>Order ID</th>\n",
       "      <th>Product</th>\n",
       "      <th>Quantity Ordered</th>\n",
       "      <th>Price Each</th>\n",
       "      <th>Order Date</th>\n",
       "      <th>Purchase Address</th>\n",
       "      <th>Year</th>\n",
       "      <th>Month</th>\n",
       "      <th>Hour</th>\n",
       "      <th>Minute</th>\n",
       "      <th>Sales</th>\n",
       "      <th>Cities</th>\n",
       "    </tr>\n",
       "  </thead>\n",
       "  <tbody>\n",
       "    <tr>\n",
       "      <th>73490</th>\n",
       "      <td>147020</td>\n",
       "      <td>Flatscreen TV</td>\n",
       "      <td>1</td>\n",
       "      <td>300.00</td>\n",
       "      <td>2019-01-22 21:41:00</td>\n",
       "      <td>234 Ridge St, Atlanta, GA 30301</td>\n",
       "      <td>2019</td>\n",
       "      <td>1</td>\n",
       "      <td>21</td>\n",
       "      <td>41</td>\n",
       "      <td>300.00</td>\n",
       "      <td>Atlanta (GA)</td>\n",
       "    </tr>\n",
       "    <tr>\n",
       "      <th>6621</th>\n",
       "      <td>182893</td>\n",
       "      <td>Bose SoundSport Headphones</td>\n",
       "      <td>1</td>\n",
       "      <td>99.99</td>\n",
       "      <td>2019-04-24 23:55:00</td>\n",
       "      <td>205 Johnson St, New York City, NY 10001</td>\n",
       "      <td>2019</td>\n",
       "      <td>4</td>\n",
       "      <td>23</td>\n",
       "      <td>55</td>\n",
       "      <td>99.99</td>\n",
       "      <td>New York City (NY)</td>\n",
       "    </tr>\n",
       "    <tr>\n",
       "      <th>147612</th>\n",
       "      <td>289095</td>\n",
       "      <td>AA Batteries (4-pack)</td>\n",
       "      <td>1</td>\n",
       "      <td>3.84</td>\n",
       "      <td>2019-11-05 15:48:00</td>\n",
       "      <td>511 10th St, Boston, MA 02215</td>\n",
       "      <td>2019</td>\n",
       "      <td>11</td>\n",
       "      <td>15</td>\n",
       "      <td>48</td>\n",
       "      <td>3.84</td>\n",
       "      <td>Boston (MA)</td>\n",
       "    </tr>\n",
       "    <tr>\n",
       "      <th>9877</th>\n",
       "      <td>186004</td>\n",
       "      <td>Lightning Charging Cable</td>\n",
       "      <td>1</td>\n",
       "      <td>14.95</td>\n",
       "      <td>2019-04-10 10:11:00</td>\n",
       "      <td>347 Cherry St, San Francisco, CA 94016</td>\n",
       "      <td>2019</td>\n",
       "      <td>4</td>\n",
       "      <td>10</td>\n",
       "      <td>11</td>\n",
       "      <td>14.95</td>\n",
       "      <td>San Francisco (CA)</td>\n",
       "    </tr>\n",
       "    <tr>\n",
       "      <th>153844</th>\n",
       "      <td>295050</td>\n",
       "      <td>USB-C Charging Cable</td>\n",
       "      <td>1</td>\n",
       "      <td>11.95</td>\n",
       "      <td>2019-11-02 12:09:00</td>\n",
       "      <td>553 Park St, Atlanta, GA 30301</td>\n",
       "      <td>2019</td>\n",
       "      <td>11</td>\n",
       "      <td>12</td>\n",
       "      <td>9</td>\n",
       "      <td>11.95</td>\n",
       "      <td>Atlanta (GA)</td>\n",
       "    </tr>\n",
       "  </tbody>\n",
       "</table>\n",
       "</div>"
      ],
      "text/plain": [
       "       Order ID                     Product  Quantity Ordered  Price Each  \\\n",
       "73490    147020               Flatscreen TV                 1      300.00   \n",
       "6621     182893  Bose SoundSport Headphones                 1       99.99   \n",
       "147612   289095       AA Batteries (4-pack)                 1        3.84   \n",
       "9877     186004    Lightning Charging Cable                 1       14.95   \n",
       "153844   295050        USB-C Charging Cable                 1       11.95   \n",
       "\n",
       "                Order Date                         Purchase Address  Year  \\\n",
       "73490  2019-01-22 21:41:00          234 Ridge St, Atlanta, GA 30301  2019   \n",
       "6621   2019-04-24 23:55:00  205 Johnson St, New York City, NY 10001  2019   \n",
       "147612 2019-11-05 15:48:00            511 10th St, Boston, MA 02215  2019   \n",
       "9877   2019-04-10 10:11:00   347 Cherry St, San Francisco, CA 94016  2019   \n",
       "153844 2019-11-02 12:09:00           553 Park St, Atlanta, GA 30301  2019   \n",
       "\n",
       "        Month  Hour  Minute   Sales               Cities  \n",
       "73490       1    21      41  300.00         Atlanta (GA)  \n",
       "6621        4    23      55   99.99   New York City (NY)  \n",
       "147612     11    15      48    3.84          Boston (MA)  \n",
       "9877        4    10      11   14.95   San Francisco (CA)  \n",
       "153844     11    12       9   11.95         Atlanta (GA)  "
      ]
     },
     "execution_count": 21,
     "metadata": {},
     "output_type": "execute_result"
    }
   ],
   "source": [
    "df.sample(5)"
   ]
  },
  {
   "cell_type": "markdown",
   "id": "005ba511",
   "metadata": {},
   "source": [
    "### DESCRIPTIVE DATA ANALYSIS\n",
    "\n",
    "Descriptive data analysis is a summary statistic that quantitatively describes or summarizes features from a collection of information, while descriptive statistics is the process of using and analysing those statistics."
   ]
  },
  {
   "cell_type": "code",
   "execution_count": 22,
   "id": "addbebf2",
   "metadata": {},
   "outputs": [
    {
     "data": {
      "text/html": [
       "<div>\n",
       "<style scoped>\n",
       "    .dataframe tbody tr th:only-of-type {\n",
       "        vertical-align: middle;\n",
       "    }\n",
       "\n",
       "    .dataframe tbody tr th {\n",
       "        vertical-align: top;\n",
       "    }\n",
       "\n",
       "    .dataframe thead th {\n",
       "        text-align: right;\n",
       "    }\n",
       "</style>\n",
       "<table border=\"1\" class=\"dataframe\">\n",
       "  <thead>\n",
       "    <tr style=\"text-align: right;\">\n",
       "      <th></th>\n",
       "      <th>Quantity Ordered</th>\n",
       "      <th>Price Each</th>\n",
       "      <th>Order Date</th>\n",
       "      <th>Year</th>\n",
       "      <th>Month</th>\n",
       "      <th>Hour</th>\n",
       "      <th>Minute</th>\n",
       "      <th>Sales</th>\n",
       "    </tr>\n",
       "  </thead>\n",
       "  <tbody>\n",
       "    <tr>\n",
       "      <th>count</th>\n",
       "      <td>185950.000000</td>\n",
       "      <td>185950.000000</td>\n",
       "      <td>185950</td>\n",
       "      <td>185950.000000</td>\n",
       "      <td>185950.000000</td>\n",
       "      <td>185950.000000</td>\n",
       "      <td>185950.000000</td>\n",
       "      <td>185950.000000</td>\n",
       "    </tr>\n",
       "    <tr>\n",
       "      <th>mean</th>\n",
       "      <td>1.124383</td>\n",
       "      <td>184.399735</td>\n",
       "      <td>2019-07-18 21:54:38.887550464</td>\n",
       "      <td>2019.000183</td>\n",
       "      <td>7.059140</td>\n",
       "      <td>14.413305</td>\n",
       "      <td>29.481361</td>\n",
       "      <td>185.490917</td>\n",
       "    </tr>\n",
       "    <tr>\n",
       "      <th>min</th>\n",
       "      <td>1.000000</td>\n",
       "      <td>2.990000</td>\n",
       "      <td>2019-01-01 03:07:00</td>\n",
       "      <td>2019.000000</td>\n",
       "      <td>1.000000</td>\n",
       "      <td>0.000000</td>\n",
       "      <td>0.000000</td>\n",
       "      <td>2.990000</td>\n",
       "    </tr>\n",
       "    <tr>\n",
       "      <th>25%</th>\n",
       "      <td>1.000000</td>\n",
       "      <td>11.950000</td>\n",
       "      <td>2019-04-16 21:05:15</td>\n",
       "      <td>2019.000000</td>\n",
       "      <td>4.000000</td>\n",
       "      <td>11.000000</td>\n",
       "      <td>14.000000</td>\n",
       "      <td>11.950000</td>\n",
       "    </tr>\n",
       "    <tr>\n",
       "      <th>50%</th>\n",
       "      <td>1.000000</td>\n",
       "      <td>14.950000</td>\n",
       "      <td>2019-07-17 20:40:30</td>\n",
       "      <td>2019.000000</td>\n",
       "      <td>7.000000</td>\n",
       "      <td>15.000000</td>\n",
       "      <td>29.000000</td>\n",
       "      <td>14.950000</td>\n",
       "    </tr>\n",
       "    <tr>\n",
       "      <th>75%</th>\n",
       "      <td>1.000000</td>\n",
       "      <td>150.000000</td>\n",
       "      <td>2019-10-26 08:14:00</td>\n",
       "      <td>2019.000000</td>\n",
       "      <td>10.000000</td>\n",
       "      <td>19.000000</td>\n",
       "      <td>45.000000</td>\n",
       "      <td>150.000000</td>\n",
       "    </tr>\n",
       "    <tr>\n",
       "      <th>max</th>\n",
       "      <td>9.000000</td>\n",
       "      <td>1700.000000</td>\n",
       "      <td>2020-01-01 05:13:00</td>\n",
       "      <td>2020.000000</td>\n",
       "      <td>12.000000</td>\n",
       "      <td>23.000000</td>\n",
       "      <td>59.000000</td>\n",
       "      <td>3400.000000</td>\n",
       "    </tr>\n",
       "    <tr>\n",
       "      <th>std</th>\n",
       "      <td>0.442793</td>\n",
       "      <td>332.731330</td>\n",
       "      <td>NaN</td>\n",
       "      <td>0.013521</td>\n",
       "      <td>3.502996</td>\n",
       "      <td>5.423416</td>\n",
       "      <td>17.317573</td>\n",
       "      <td>332.919771</td>\n",
       "    </tr>\n",
       "  </tbody>\n",
       "</table>\n",
       "</div>"
      ],
      "text/plain": [
       "       Quantity Ordered     Price Each                     Order Date  \\\n",
       "count     185950.000000  185950.000000                         185950   \n",
       "mean           1.124383     184.399735  2019-07-18 21:54:38.887550464   \n",
       "min            1.000000       2.990000            2019-01-01 03:07:00   \n",
       "25%            1.000000      11.950000            2019-04-16 21:05:15   \n",
       "50%            1.000000      14.950000            2019-07-17 20:40:30   \n",
       "75%            1.000000     150.000000            2019-10-26 08:14:00   \n",
       "max            9.000000    1700.000000            2020-01-01 05:13:00   \n",
       "std            0.442793     332.731330                            NaN   \n",
       "\n",
       "                Year          Month           Hour         Minute  \\\n",
       "count  185950.000000  185950.000000  185950.000000  185950.000000   \n",
       "mean     2019.000183       7.059140      14.413305      29.481361   \n",
       "min      2019.000000       1.000000       0.000000       0.000000   \n",
       "25%      2019.000000       4.000000      11.000000      14.000000   \n",
       "50%      2019.000000       7.000000      15.000000      29.000000   \n",
       "75%      2019.000000      10.000000      19.000000      45.000000   \n",
       "max      2020.000000      12.000000      23.000000      59.000000   \n",
       "std         0.013521       3.502996       5.423416      17.317573   \n",
       "\n",
       "               Sales  \n",
       "count  185950.000000  \n",
       "mean      185.490917  \n",
       "min         2.990000  \n",
       "25%        11.950000  \n",
       "50%        14.950000  \n",
       "75%       150.000000  \n",
       "max      3400.000000  \n",
       "std       332.919771  "
      ]
     },
     "execution_count": 22,
     "metadata": {},
     "output_type": "execute_result"
    }
   ],
   "source": [
    "df.describe()"
   ]
  },
  {
   "cell_type": "markdown",
   "id": "0294b404",
   "metadata": {},
   "source": [
    "There is still data in year 2020, lets exclude them."
   ]
  },
  {
   "cell_type": "code",
   "execution_count": 23,
   "id": "533968c1",
   "metadata": {},
   "outputs": [],
   "source": [
    "# Select only for year 2019\n",
    "df = df[df['Year']==2019]"
   ]
  },
  {
   "cell_type": "code",
   "execution_count": 24,
   "id": "9c4ad141",
   "metadata": {},
   "outputs": [
    {
     "name": "stdout",
     "output_type": "stream",
     "text": [
      "<class 'pandas.core.frame.DataFrame'>\n",
      "Index: 185916 entries, 0 to 186494\n",
      "Data columns (total 12 columns):\n",
      " #   Column            Non-Null Count   Dtype         \n",
      "---  ------            --------------   -----         \n",
      " 0   Order ID          185916 non-null  object        \n",
      " 1   Product           185916 non-null  object        \n",
      " 2   Quantity Ordered  185916 non-null  int64         \n",
      " 3   Price Each        185916 non-null  float64       \n",
      " 4   Order Date        185916 non-null  datetime64[ns]\n",
      " 5   Purchase Address  185916 non-null  object        \n",
      " 6   Year              185916 non-null  int32         \n",
      " 7   Month             185916 non-null  int32         \n",
      " 8   Hour              185916 non-null  int32         \n",
      " 9   Minute            185916 non-null  int32         \n",
      " 10  Sales             185916 non-null  float64       \n",
      " 11  Cities            185916 non-null  object        \n",
      "dtypes: datetime64[ns](1), float64(2), int32(4), int64(1), object(4)\n",
      "memory usage: 15.6+ MB\n"
     ]
    }
   ],
   "source": [
    "df.info()"
   ]
  },
  {
   "cell_type": "code",
   "execution_count": 25,
   "id": "a52b9944",
   "metadata": {},
   "outputs": [
    {
     "data": {
      "text/html": [
       "<div>\n",
       "<style scoped>\n",
       "    .dataframe tbody tr th:only-of-type {\n",
       "        vertical-align: middle;\n",
       "    }\n",
       "\n",
       "    .dataframe tbody tr th {\n",
       "        vertical-align: top;\n",
       "    }\n",
       "\n",
       "    .dataframe thead th {\n",
       "        text-align: right;\n",
       "    }\n",
       "</style>\n",
       "<table border=\"1\" class=\"dataframe\">\n",
       "  <thead>\n",
       "    <tr style=\"text-align: right;\">\n",
       "      <th></th>\n",
       "      <th>Quantity Ordered</th>\n",
       "      <th>Price Each</th>\n",
       "      <th>Order Date</th>\n",
       "      <th>Year</th>\n",
       "      <th>Month</th>\n",
       "      <th>Hour</th>\n",
       "      <th>Minute</th>\n",
       "      <th>Sales</th>\n",
       "    </tr>\n",
       "  </thead>\n",
       "  <tbody>\n",
       "    <tr>\n",
       "      <th>count</th>\n",
       "      <td>185916.000000</td>\n",
       "      <td>185916.000000</td>\n",
       "      <td>185916</td>\n",
       "      <td>185916.0</td>\n",
       "      <td>185916.000000</td>\n",
       "      <td>185916.000000</td>\n",
       "      <td>185916.000000</td>\n",
       "      <td>185916.000000</td>\n",
       "    </tr>\n",
       "    <tr>\n",
       "      <th>mean</th>\n",
       "      <td>1.124368</td>\n",
       "      <td>184.387720</td>\n",
       "      <td>2019-07-18 21:10:53.291163904</td>\n",
       "      <td>2019.0</td>\n",
       "      <td>7.060248</td>\n",
       "      <td>14.415661</td>\n",
       "      <td>29.481744</td>\n",
       "      <td>185.478203</td>\n",
       "    </tr>\n",
       "    <tr>\n",
       "      <th>min</th>\n",
       "      <td>1.000000</td>\n",
       "      <td>2.990000</td>\n",
       "      <td>2019-01-01 03:07:00</td>\n",
       "      <td>2019.0</td>\n",
       "      <td>1.000000</td>\n",
       "      <td>0.000000</td>\n",
       "      <td>0.000000</td>\n",
       "      <td>2.990000</td>\n",
       "    </tr>\n",
       "    <tr>\n",
       "      <th>25%</th>\n",
       "      <td>1.000000</td>\n",
       "      <td>11.950000</td>\n",
       "      <td>2019-04-16 20:52:00</td>\n",
       "      <td>2019.0</td>\n",
       "      <td>4.000000</td>\n",
       "      <td>11.000000</td>\n",
       "      <td>14.000000</td>\n",
       "      <td>11.950000</td>\n",
       "    </tr>\n",
       "    <tr>\n",
       "      <th>50%</th>\n",
       "      <td>1.000000</td>\n",
       "      <td>14.950000</td>\n",
       "      <td>2019-07-17 20:09:30</td>\n",
       "      <td>2019.0</td>\n",
       "      <td>7.000000</td>\n",
       "      <td>15.000000</td>\n",
       "      <td>29.000000</td>\n",
       "      <td>14.950000</td>\n",
       "    </tr>\n",
       "    <tr>\n",
       "      <th>75%</th>\n",
       "      <td>1.000000</td>\n",
       "      <td>150.000000</td>\n",
       "      <td>2019-10-26 06:58:00</td>\n",
       "      <td>2019.0</td>\n",
       "      <td>10.000000</td>\n",
       "      <td>19.000000</td>\n",
       "      <td>45.000000</td>\n",
       "      <td>150.000000</td>\n",
       "    </tr>\n",
       "    <tr>\n",
       "      <th>max</th>\n",
       "      <td>9.000000</td>\n",
       "      <td>1700.000000</td>\n",
       "      <td>2019-12-31 23:53:00</td>\n",
       "      <td>2019.0</td>\n",
       "      <td>12.000000</td>\n",
       "      <td>23.000000</td>\n",
       "      <td>59.000000</td>\n",
       "      <td>3400.000000</td>\n",
       "    </tr>\n",
       "    <tr>\n",
       "      <th>std</th>\n",
       "      <td>0.442749</td>\n",
       "      <td>332.722426</td>\n",
       "      <td>NaN</td>\n",
       "      <td>0.0</td>\n",
       "      <td>3.502358</td>\n",
       "      <td>5.421069</td>\n",
       "      <td>17.317339</td>\n",
       "      <td>332.911130</td>\n",
       "    </tr>\n",
       "  </tbody>\n",
       "</table>\n",
       "</div>"
      ],
      "text/plain": [
       "       Quantity Ordered     Price Each                     Order Date  \\\n",
       "count     185916.000000  185916.000000                         185916   \n",
       "mean           1.124368     184.387720  2019-07-18 21:10:53.291163904   \n",
       "min            1.000000       2.990000            2019-01-01 03:07:00   \n",
       "25%            1.000000      11.950000            2019-04-16 20:52:00   \n",
       "50%            1.000000      14.950000            2019-07-17 20:09:30   \n",
       "75%            1.000000     150.000000            2019-10-26 06:58:00   \n",
       "max            9.000000    1700.000000            2019-12-31 23:53:00   \n",
       "std            0.442749     332.722426                            NaN   \n",
       "\n",
       "           Year          Month           Hour         Minute          Sales  \n",
       "count  185916.0  185916.000000  185916.000000  185916.000000  185916.000000  \n",
       "mean     2019.0       7.060248      14.415661      29.481744     185.478203  \n",
       "min      2019.0       1.000000       0.000000       0.000000       2.990000  \n",
       "25%      2019.0       4.000000      11.000000      14.000000      11.950000  \n",
       "50%      2019.0       7.000000      15.000000      29.000000      14.950000  \n",
       "75%      2019.0      10.000000      19.000000      45.000000     150.000000  \n",
       "max      2019.0      12.000000      23.000000      59.000000    3400.000000  \n",
       "std         0.0       3.502358       5.421069      17.317339     332.911130  "
      ]
     },
     "execution_count": 25,
     "metadata": {},
     "output_type": "execute_result"
    }
   ],
   "source": [
    "df.describe()"
   ]
  },
  {
   "cell_type": "code",
   "execution_count": 26,
   "id": "9fdd3ef8",
   "metadata": {},
   "outputs": [
    {
     "name": "stdout",
     "output_type": "stream",
     "text": [
      "Total orders in 2019 : 185,916 orders\n"
     ]
    }
   ],
   "source": [
    "total_year_order = df.shape[0]\n",
    "\n",
    "print(f'Total orders in 2019 : {total_year_order:,} orders')"
   ]
  },
  {
   "cell_type": "code",
   "execution_count": 27,
   "id": "56765a2a",
   "metadata": {},
   "outputs": [
    {
     "name": "stdout",
     "output_type": "stream",
     "text": [
      "Total products sold in 2019 : 209,038 items\n"
     ]
    }
   ],
   "source": [
    "total_product_sold = df['Quantity Ordered'].sum()\n",
    "\n",
    "print(f'Total products sold in 2019 : {total_product_sold:,} items')"
   ]
  },
  {
   "cell_type": "code",
   "execution_count": 28,
   "id": "0b2afb64",
   "metadata": {},
   "outputs": [
    {
     "name": "stdout",
     "output_type": "stream",
     "text": [
      "Total sales in 2019 : 34,483,365.68 USD\n"
     ]
    }
   ],
   "source": [
    "total_year_sales = df['Sales'].sum()\n",
    "\n",
    "print(f'Total sales in 2019 : {total_year_sales:,} USD')"
   ]
  },
  {
   "cell_type": "markdown",
   "id": "10134e02",
   "metadata": {},
   "source": [
    "### UNIVARIATE DATA ANALYSIS \n",
    "\n",
    "Univariate analysis is basically the simplest form to analyze data. The major reason for univariate analysis is to use the data to describe. The analysis will take data, summarise it, and then find some pattern in the data."
   ]
  },
  {
   "cell_type": "code",
   "execution_count": 29,
   "id": "215fa7c5",
   "metadata": {},
   "outputs": [
    {
     "data": {
      "image/png": "[encoded data removed]",
      "text/plain": [
       "<Figure size 1200x1000 with 6 Axes>"
      ]
     },
     "metadata": {},
     "output_type": "display_data"
    }
   ],
   "source": [
    "fig, ax = plt.subplots(3,2, figsize=(12,10))\n",
    "\n",
    "sns.histplot(data=df,x='Quantity Ordered',kde=True,ax=ax[0,0])\n",
    "sns.histplot(data=df,x='Price Each',kde=True,ax=ax[1,0],bins=50)\n",
    "sns.histplot(data=df,x='Sales',kde=True,ax=ax[2,0],bins=50)\n",
    "\n",
    "ax[0,0].set_title('Quantity Ordered')\n",
    "ax[1,0].set_title('Price Each')\n",
    "ax[2,0].set_title('Sales')\n",
    "\n",
    "sns.boxplot(data=df,x='Quantity Ordered',ax=ax[0,1])\n",
    "sns.boxplot(data=df,x='Price Each',ax=ax[1,1])\n",
    "sns.boxplot(data=df,x='Sales',ax=ax[2,1])\n",
    "\n",
    "ax[0,1].set_title('Quantity Ordered')\n",
    "ax[1,1].set_title('Price Each')\n",
    "ax[2,1].set_title('Sales')\n",
    "\n",
    "plt.tight_layout()\n",
    "plt.show()"
   ]
  },
  {
   "cell_type": "markdown",
   "id": "d52218da",
   "metadata": {},
   "source": [
    "Above graphs interpretation :\n",
    "    \n",
    "1) Mostly customer buys 1 item, some small protion buy 2 items once and customer buys more than 2 is rare.\n",
    "\n",
    "2) Price per item mostly in range 11.95 to 150.00.\n",
    "\n",
    "3) Sales range are 11.95 to 150.00."
   ]
  },
  {
   "cell_type": "code",
   "execution_count": 33,
   "id": "01810dd9",
   "metadata": {},
   "outputs": [
    {
     "data": {
      "image/png": "[encoded data removed]",
      "text/plain": [
       "<Figure size 1000x600 with 1 Axes>"
      ]
     },
     "metadata": {},
     "output_type": "display_data"
    }
   ],
   "source": [
    "plt.figure(figsize=(10,6))\n",
    "\n",
    "df['Cities'].value_counts().plot(kind='bar',color=['#0892a5','#2e9b9b','#50a290','#6fa985','#8dad7f','#a9b17e','#c4b383','#dbb68f'])\n",
    "\n",
    "plt.title('Cities orders distribution',weight='bold',fontsize=20,pad=20)\n",
    "plt.ylabel('Orders',fontsize=12)\n",
    "plt.xlabel('City',fontsize=12)\n",
    "\n",
    "plt.show()"
   ]
  },
  {
   "cell_type": "markdown",
   "id": "0209133e",
   "metadata": {},
   "source": [
    "Most of orders are from California (CA) specificly from San Francisco and Los Angeles around more than 40,000 and 30,000 orders. Average orders in cities are around 18,000 orders."
   ]
  },
  {
   "cell_type": "code",
   "execution_count": 34,
   "id": "3e25a131",
   "metadata": {},
   "outputs": [
    {
     "data": {
      "image/png": "[encoded data removed]",
      "text/plain": [
       "<Figure size 1000x600 with 1 Axes>"
      ]
     },
     "metadata": {},
     "output_type": "display_data"
    }
   ],
   "source": [
    "plt.figure(figsize=(10,6))\n",
    "\n",
    "df['Month'].value_counts().sort_index().plot(kind='bar',color=['#0892a5','#2e9b9b','#50a290','#6fa985','#8dad7f','#a9b17e','#c4b383','#dbb68f'])\n",
    "\n",
    "plt.title('Month orders distribution',weight='bold',fontsize=20,pad=20)\n",
    "plt.ylabel('Orders',fontsize=12)\n",
    "plt.xlabel('Month',fontsize=12)\n",
    "\n",
    "plt.show()"
   ]
  },
  {
   "cell_type": "code",
   "execution_count": null,
   "id": "24d253bb",
   "metadata": {},
   "outputs": [],
   "source": [
    "High order are happend in December and October that have 25,000 and 20,000 orders. There is increasing order in January to April then decrease to September."
   ]
  }
 ],
 "metadata": {
  "kernelspec": {
   "display_name": "Python 3 (ipykernel)",
   "language": "python",
   "name": "python3"
  },
  "language_info": {
   "codemirror_mode": {
    "name": "ipython",
    "version": 3
   },
   "file_extension": ".py",
   "mimetype": "text/x-python",
   "name": "python",
   "nbconvert_exporter": "python",
   "pygments_lexer": "ipython3",
   "version": "3.11.5"
  }
 },
 "nbformat": 4,
 "nbformat_minor": 5
}
